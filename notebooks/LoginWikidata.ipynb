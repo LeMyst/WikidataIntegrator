{
  "nbformat": 4,
  "nbformat_minor": 0,
  "metadata": {
    "colab": {
      "name": "LoginWikidata.ipynb",
      "provenance": []
    },
    "kernelspec": {
      "name": "python3",
      "display_name": "Python 3"
    }
  },
  "cells": [
    {
      "cell_type": "markdown",
      "metadata": {
        "id": "ZeiDFNocItQE"
      },
      "source": [
        "# install wikidataintegrator\n",
        "If the library is not installed yet, run this step"
      ]
    },
    {
      "cell_type": "code",
      "metadata": {
        "id": "auWqfrrBIlMC"
      },
      "source": [
        "%%capture\n",
        "!pip install wikidataintegrator"
      ],
      "execution_count": 2,
      "outputs": []
    },
    {
      "cell_type": "markdown",
      "metadata": {
        "id": "mmPuk0NQJAmF"
      },
      "source": [
        "# Load the libraries\n"
      ]
    },
    {
      "cell_type": "code",
      "metadata": {
        "id": "5hZjSO8IJF04"
      },
      "source": [
        "from wikidataintegrator import wdi_core, wdi_login\n",
        "from getpass import getpass"
      ],
      "execution_count": 3,
      "outputs": []
    },
    {
      "cell_type": "markdown",
      "metadata": {
        "id": "utD92d4XJU61"
      },
      "source": [
        "# Login to Wikidata"
      ]
    },
    {
      "cell_type": "code",
      "metadata": {
        "id": "y9qOYOhnJOfs",
        "colab": {
          "base_uri": "https://localhost:8080/"
        },
        "outputId": "9cd54276-c9ff-403e-ea57-e8968d382ddb"
      },
      "source": [
        "WBUSER = getpass(prompt=\"username:\")  \n",
        "WBPASS = getpass(prompt='Enter your password: ')  \n",
        "login = wdi_login.WDLogin(WBUSER, WBPASS)"
      ],
      "execution_count": 6,
      "outputs": [
        {
          "output_type": "stream",
          "text": [
            "username:··········\n",
            "Enter your password: ··········\n"
          ],
          "name": "stdout"
        }
      ]
    }
  ]
}