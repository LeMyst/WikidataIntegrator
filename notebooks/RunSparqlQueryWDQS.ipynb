{
  "nbformat": 4,
  "nbformat_minor": 0,
  "metadata": {
    "colab": {
      "name": "RunSparqlQueryWDQS.ipynb",
      "provenance": []
    },
    "kernelspec": {
      "name": "python3",
      "display_name": "Python 3"
    }
  },
  "cells": [
    {
      "cell_type": "markdown",
      "metadata": {
        "id": "ZeiDFNocItQE"
      },
      "source": [
        "# install wikidataintegrator\n",
        "If the library is not installed yet, run this step"
      ]
    },
    {
      "cell_type": "code",
      "metadata": {
        "id": "auWqfrrBIlMC"
      },
      "source": [
        "%%capture\n",
        "!pip install wikidataintegrator"
      ],
      "execution_count": 1,
      "outputs": []
    },
    {
      "cell_type": "markdown",
      "metadata": {
        "id": "mmPuk0NQJAmF"
      },
      "source": [
        "# Load the libraries\n"
      ]
    },
    {
      "cell_type": "code",
      "metadata": {
        "id": "5hZjSO8IJF04"
      },
      "source": [
        "from wikidataintegrator import wdi_core"
      ],
      "execution_count": 2,
      "outputs": []
    },
    {
      "cell_type": "markdown",
      "metadata": {
        "id": "utD92d4XJU61"
      },
      "source": [
        "# Compose a SPARQL query"
      ]
    },
    {
      "cell_type": "code",
      "metadata": {
        "id": "y9qOYOhnJOfs"
      },
      "source": [
        "query = \"\"\" SELECT ?disease ?diseaseLabel ?doid \n",
        "WHERE {\n",
        "  ?disease wdt:P699 ?doid . \n",
        "  SERVICE wikibase:label { bd:serviceParam wikibase:language \"[AUTO_LANGUAGE],en\". }\n",
        "} LIMIT 5\n",
        "\"\"\""
      ],
      "execution_count": 5,
      "outputs": []
    },
    {
      "cell_type": "markdown",
      "metadata": {
        "id": "YceAv3N-J21J"
      },
      "source": [
        "# Run the query"
      ]
    },
    {
      "cell_type": "code",
      "metadata": {
        "colab": {
          "base_uri": "https://localhost:8080/"
        },
        "id": "TZgRask_J4iE",
        "outputId": "56ec6aa2-21f9-48b3-df14-a0f3ac1fc7b9"
      },
      "source": [
        "wdi_core.WDFunctionsEngine.execute_sparql_query(query)"
      ],
      "execution_count": 6,
      "outputs": [
        {
          "output_type": "execute_result",
          "data": {
            "text/plain": [
              "{'head': {'vars': ['disease', 'diseaseLabel', 'doid']},\n",
              " 'results': {'bindings': [{'disease': {'type': 'uri',\n",
              "     'value': 'http://www.wikidata.org/entity/Q12135'},\n",
              "    'diseaseLabel': {'type': 'literal',\n",
              "     'value': 'mental disorder',\n",
              "     'xml:lang': 'en'},\n",
              "    'doid': {'type': 'literal', 'value': 'DOID:0050329'}},\n",
              "   {'disease': {'type': 'uri',\n",
              "     'value': 'http://www.wikidata.org/entity/Q16495'},\n",
              "    'diseaseLabel': {'type': 'literal',\n",
              "     'value': \"Riedel's fibrosing thyroiditis\",\n",
              "     'xml:lang': 'en'},\n",
              "    'doid': {'type': 'literal', 'value': 'DOID:14351'}},\n",
              "   {'disease': {'type': 'uri',\n",
              "     'value': 'http://www.wikidata.org/entity/Q12135'},\n",
              "    'diseaseLabel': {'type': 'literal',\n",
              "     'value': 'mental disorder',\n",
              "     'xml:lang': 'en'},\n",
              "    'doid': {'type': 'literal', 'value': 'DOID:150'}},\n",
              "   {'disease': {'type': 'uri',\n",
              "     'value': 'http://www.wikidata.org/entity/Q8277'},\n",
              "    'diseaseLabel': {'type': 'literal',\n",
              "     'value': 'multiple sclerosis',\n",
              "     'xml:lang': 'en'},\n",
              "    'doid': {'type': 'literal', 'value': 'DOID:2377'}},\n",
              "   {'disease': {'type': 'uri',\n",
              "     'value': 'http://www.wikidata.org/entity/Q8285'},\n",
              "    'diseaseLabel': {'type': 'literal',\n",
              "     'value': 'myasthenia gravis',\n",
              "     'xml:lang': 'en'},\n",
              "    'doid': {'type': 'literal', 'value': 'DOID:437'}}]}}"
            ]
          },
          "metadata": {
            "tags": []
          },
          "execution_count": 6
        }
      ]
    },
    {
      "cell_type": "markdown",
      "metadata": {
        "id": "KOS3P0QEKGPf"
      },
      "source": [
        "# Run the query and get the results as pandas dataframe\n"
      ]
    },
    {
      "cell_type": "code",
      "metadata": {
        "colab": {
          "base_uri": "https://localhost:8080/",
          "height": 204
        },
        "id": "uK_-Ope_KFzH",
        "outputId": "bcd1d57a-4630-49e1-b7a1-ba084e95d0fc"
      },
      "source": [
        "wdi_core.WDFunctionsEngine.execute_sparql_query(query, as_dataframe=True)"
      ],
      "execution_count": 7,
      "outputs": [
        {
          "output_type": "execute_result",
          "data": {
            "text/html": [
              "<div>\n",
              "<style scoped>\n",
              "    .dataframe tbody tr th:only-of-type {\n",
              "        vertical-align: middle;\n",
              "    }\n",
              "\n",
              "    .dataframe tbody tr th {\n",
              "        vertical-align: top;\n",
              "    }\n",
              "\n",
              "    .dataframe thead th {\n",
              "        text-align: right;\n",
              "    }\n",
              "</style>\n",
              "<table border=\"1\" class=\"dataframe\">\n",
              "  <thead>\n",
              "    <tr style=\"text-align: right;\">\n",
              "      <th></th>\n",
              "      <th>disease</th>\n",
              "      <th>doid</th>\n",
              "      <th>diseaseLabel</th>\n",
              "    </tr>\n",
              "  </thead>\n",
              "  <tbody>\n",
              "    <tr>\n",
              "      <th>0</th>\n",
              "      <td>http://www.wikidata.org/entity/Q12135</td>\n",
              "      <td>DOID:0050329</td>\n",
              "      <td>mental disorder</td>\n",
              "    </tr>\n",
              "    <tr>\n",
              "      <th>1</th>\n",
              "      <td>http://www.wikidata.org/entity/Q16495</td>\n",
              "      <td>DOID:14351</td>\n",
              "      <td>Riedel's fibrosing thyroiditis</td>\n",
              "    </tr>\n",
              "    <tr>\n",
              "      <th>2</th>\n",
              "      <td>http://www.wikidata.org/entity/Q12135</td>\n",
              "      <td>DOID:150</td>\n",
              "      <td>mental disorder</td>\n",
              "    </tr>\n",
              "    <tr>\n",
              "      <th>3</th>\n",
              "      <td>http://www.wikidata.org/entity/Q8277</td>\n",
              "      <td>DOID:2377</td>\n",
              "      <td>multiple sclerosis</td>\n",
              "    </tr>\n",
              "    <tr>\n",
              "      <th>4</th>\n",
              "      <td>http://www.wikidata.org/entity/Q8285</td>\n",
              "      <td>DOID:437</td>\n",
              "      <td>myasthenia gravis</td>\n",
              "    </tr>\n",
              "  </tbody>\n",
              "</table>\n",
              "</div>"
            ],
            "text/plain": [
              "                                 disease  ...                    diseaseLabel\n",
              "0  http://www.wikidata.org/entity/Q12135  ...                 mental disorder\n",
              "1  http://www.wikidata.org/entity/Q16495  ...  Riedel's fibrosing thyroiditis\n",
              "2  http://www.wikidata.org/entity/Q12135  ...                 mental disorder\n",
              "3   http://www.wikidata.org/entity/Q8277  ...              multiple sclerosis\n",
              "4   http://www.wikidata.org/entity/Q8285  ...               myasthenia gravis\n",
              "\n",
              "[5 rows x 3 columns]"
            ]
          },
          "metadata": {
            "tags": []
          },
          "execution_count": 7
        }
      ]
    }
  ]
}